{
  "metadata": {
    "kernelspec": {
      "name": "python",
      "display_name": "Python (Pyodide)",
      "language": "python"
    },
    "language_info": {
      "codemirror_mode": {
        "name": "python",
        "version": 3
      },
      "file_extension": ".py",
      "mimetype": "text/x-python",
      "name": "python",
      "nbconvert_exporter": "python",
      "pygments_lexer": "ipython3",
      "version": "3.8"
    }
  },
  "nbformat_minor": 5,
  "nbformat": 4,
  "cells": [
    {
      "cell_type": "code",
      "source": "import pandas as pd",
      "metadata": {
        "trusted": true
      },
      "execution_count": 1,
      "outputs": [],
      "id": "c8938400-5145-4ab2-ae21-96e9d0f2bcd2"
    },
    {
      "cell_type": "code",
      "source": "data=pd.read_csv('dataset.csv')",
      "metadata": {
        "trusted": true
      },
      "execution_count": 3,
      "outputs": [],
      "id": "318c63c8-9878-4996-aab9-1fcfa4a6d1c9"
    },
    {
      "cell_type": "code",
      "source": "data.head()",
      "metadata": {
        "trusted": true
      },
      "execution_count": 4,
      "outputs": [
        {
          "execution_count": 4,
          "output_type": "execute_result",
          "data": {
            "text/plain": "    Loan_ID Gender Married Dependents     Education Self_Employed  \\\n0  LP001002   Male      No          0      Graduate            No   \n1  LP001003   Male     Yes          1      Graduate            No   \n2  LP001005   Male     Yes          0      Graduate           Yes   \n3  LP001006   Male     Yes          0  Not Graduate            No   \n4  LP001008   Male      No          0      Graduate            No   \n\n   ApplicantIncome  CoapplicantIncome  LoanAmount  Loan_Amount_Term  \\\n0             5849                0.0         NaN             360.0   \n1             4583             1508.0       128.0             360.0   \n2             3000                0.0        66.0             360.0   \n3             2583             2358.0       120.0             360.0   \n4             6000                0.0       141.0             360.0   \n\n   Credit_History Property_Area Loan_Status  \n0             1.0         Urban           Y  \n1             1.0         Rural           N  \n2             1.0         Urban           Y  \n3             1.0         Urban           Y  \n4             1.0         Urban           Y  ",
            "text/html": "<div>\n<style scoped>\n    .dataframe tbody tr th:only-of-type {\n        vertical-align: middle;\n    }\n\n    .dataframe tbody tr th {\n        vertical-align: top;\n    }\n\n    .dataframe thead th {\n        text-align: right;\n    }\n</style>\n<table border=\"1\" class=\"dataframe\">\n  <thead>\n    <tr style=\"text-align: right;\">\n      <th></th>\n      <th>Loan_ID</th>\n      <th>Gender</th>\n      <th>Married</th>\n      <th>Dependents</th>\n      <th>Education</th>\n      <th>Self_Employed</th>\n      <th>ApplicantIncome</th>\n      <th>CoapplicantIncome</th>\n      <th>LoanAmount</th>\n      <th>Loan_Amount_Term</th>\n      <th>Credit_History</th>\n      <th>Property_Area</th>\n      <th>Loan_Status</th>\n    </tr>\n  </thead>\n  <tbody>\n    <tr>\n      <th>0</th>\n      <td>LP001002</td>\n      <td>Male</td>\n      <td>No</td>\n      <td>0</td>\n      <td>Graduate</td>\n      <td>No</td>\n      <td>5849</td>\n      <td>0.0</td>\n      <td>NaN</td>\n      <td>360.0</td>\n      <td>1.0</td>\n      <td>Urban</td>\n      <td>Y</td>\n    </tr>\n    <tr>\n      <th>1</th>\n      <td>LP001003</td>\n      <td>Male</td>\n      <td>Yes</td>\n      <td>1</td>\n      <td>Graduate</td>\n      <td>No</td>\n      <td>4583</td>\n      <td>1508.0</td>\n      <td>128.0</td>\n      <td>360.0</td>\n      <td>1.0</td>\n      <td>Rural</td>\n      <td>N</td>\n    </tr>\n    <tr>\n      <th>2</th>\n      <td>LP001005</td>\n      <td>Male</td>\n      <td>Yes</td>\n      <td>0</td>\n      <td>Graduate</td>\n      <td>Yes</td>\n      <td>3000</td>\n      <td>0.0</td>\n      <td>66.0</td>\n      <td>360.0</td>\n      <td>1.0</td>\n      <td>Urban</td>\n      <td>Y</td>\n    </tr>\n    <tr>\n      <th>3</th>\n      <td>LP001006</td>\n      <td>Male</td>\n      <td>Yes</td>\n      <td>0</td>\n      <td>Not Graduate</td>\n      <td>No</td>\n      <td>2583</td>\n      <td>2358.0</td>\n      <td>120.0</td>\n      <td>360.0</td>\n      <td>1.0</td>\n      <td>Urban</td>\n      <td>Y</td>\n    </tr>\n    <tr>\n      <th>4</th>\n      <td>LP001008</td>\n      <td>Male</td>\n      <td>No</td>\n      <td>0</td>\n      <td>Graduate</td>\n      <td>No</td>\n      <td>6000</td>\n      <td>0.0</td>\n      <td>141.0</td>\n      <td>360.0</td>\n      <td>1.0</td>\n      <td>Urban</td>\n      <td>Y</td>\n    </tr>\n  </tbody>\n</table>\n</div>"
          },
          "metadata": {}
        }
      ],
      "id": "993fd92b-9913-4d63-bd38-06989f05f380"
    },
    {
      "cell_type": "code",
      "source": "data.tail()",
      "metadata": {
        "trusted": true
      },
      "execution_count": 5,
      "outputs": [
        {
          "execution_count": 5,
          "output_type": "execute_result",
          "data": {
            "text/plain": "      Loan_ID  Gender Married Dependents Education Self_Employed  \\\n609  LP002978  Female      No          0  Graduate            No   \n610  LP002979    Male     Yes         3+  Graduate            No   \n611  LP002983    Male     Yes          1  Graduate            No   \n612  LP002984    Male     Yes          2  Graduate            No   \n613  LP002990  Female      No          0  Graduate           Yes   \n\n     ApplicantIncome  CoapplicantIncome  LoanAmount  Loan_Amount_Term  \\\n609             2900                0.0        71.0             360.0   \n610             4106                0.0        40.0             180.0   \n611             8072              240.0       253.0             360.0   \n612             7583                0.0       187.0             360.0   \n613             4583                0.0       133.0             360.0   \n\n     Credit_History Property_Area Loan_Status  \n609             1.0         Rural           Y  \n610             1.0         Rural           Y  \n611             1.0         Urban           Y  \n612             1.0         Urban           Y  \n613             0.0     Semiurban           N  ",
            "text/html": "<div>\n<style scoped>\n    .dataframe tbody tr th:only-of-type {\n        vertical-align: middle;\n    }\n\n    .dataframe tbody tr th {\n        vertical-align: top;\n    }\n\n    .dataframe thead th {\n        text-align: right;\n    }\n</style>\n<table border=\"1\" class=\"dataframe\">\n  <thead>\n    <tr style=\"text-align: right;\">\n      <th></th>\n      <th>Loan_ID</th>\n      <th>Gender</th>\n      <th>Married</th>\n      <th>Dependents</th>\n      <th>Education</th>\n      <th>Self_Employed</th>\n      <th>ApplicantIncome</th>\n      <th>CoapplicantIncome</th>\n      <th>LoanAmount</th>\n      <th>Loan_Amount_Term</th>\n      <th>Credit_History</th>\n      <th>Property_Area</th>\n      <th>Loan_Status</th>\n    </tr>\n  </thead>\n  <tbody>\n    <tr>\n      <th>609</th>\n      <td>LP002978</td>\n      <td>Female</td>\n      <td>No</td>\n      <td>0</td>\n      <td>Graduate</td>\n      <td>No</td>\n      <td>2900</td>\n      <td>0.0</td>\n      <td>71.0</td>\n      <td>360.0</td>\n      <td>1.0</td>\n      <td>Rural</td>\n      <td>Y</td>\n    </tr>\n    <tr>\n      <th>610</th>\n      <td>LP002979</td>\n      <td>Male</td>\n      <td>Yes</td>\n      <td>3+</td>\n      <td>Graduate</td>\n      <td>No</td>\n      <td>4106</td>\n      <td>0.0</td>\n      <td>40.0</td>\n      <td>180.0</td>\n      <td>1.0</td>\n      <td>Rural</td>\n      <td>Y</td>\n    </tr>\n    <tr>\n      <th>611</th>\n      <td>LP002983</td>\n      <td>Male</td>\n      <td>Yes</td>\n      <td>1</td>\n      <td>Graduate</td>\n      <td>No</td>\n      <td>8072</td>\n      <td>240.0</td>\n      <td>253.0</td>\n      <td>360.0</td>\n      <td>1.0</td>\n      <td>Urban</td>\n      <td>Y</td>\n    </tr>\n    <tr>\n      <th>612</th>\n      <td>LP002984</td>\n      <td>Male</td>\n      <td>Yes</td>\n      <td>2</td>\n      <td>Graduate</td>\n      <td>No</td>\n      <td>7583</td>\n      <td>0.0</td>\n      <td>187.0</td>\n      <td>360.0</td>\n      <td>1.0</td>\n      <td>Urban</td>\n      <td>Y</td>\n    </tr>\n    <tr>\n      <th>613</th>\n      <td>LP002990</td>\n      <td>Female</td>\n      <td>No</td>\n      <td>0</td>\n      <td>Graduate</td>\n      <td>Yes</td>\n      <td>4583</td>\n      <td>0.0</td>\n      <td>133.0</td>\n      <td>360.0</td>\n      <td>0.0</td>\n      <td>Semiurban</td>\n      <td>N</td>\n    </tr>\n  </tbody>\n</table>\n</div>"
          },
          "metadata": {}
        }
      ],
      "id": "eb9beeae-d04c-4510-af14-4072ab869fd1"
    },
    {
      "cell_type": "code",
      "source": "data.shape",
      "metadata": {
        "trusted": true
      },
      "execution_count": 6,
      "outputs": [
        {
          "execution_count": 6,
          "output_type": "execute_result",
          "data": {
            "text/plain": "(614, 13)"
          },
          "metadata": {}
        }
      ],
      "id": "44865e24-805f-4455-b518-53161e02a956"
    },
    {
      "cell_type": "code",
      "source": "print(\"Number of Rows\",data.shape[0])\nprint(\"Number of Columns\",data.shape[1])",
      "metadata": {
        "trusted": true
      },
      "execution_count": 7,
      "outputs": [
        {
          "name": "stdout",
          "text": "Number of Rows 614\nNumber of Columns 13\n",
          "output_type": "stream"
        }
      ],
      "id": "06e2d841-82c3-484c-9ff7-74c5e43213c9"
    },
    {
      "cell_type": "code",
      "source": "data.info()",
      "metadata": {
        "trusted": true
      },
      "execution_count": 8,
      "outputs": [
        {
          "name": "stdout",
          "text": "<class 'pandas.core.frame.DataFrame'>\nRangeIndex: 614 entries, 0 to 613\nData columns (total 13 columns):\n #   Column             Non-Null Count  Dtype  \n---  ------             --------------  -----  \n 0   Loan_ID            614 non-null    object \n 1   Gender             601 non-null    object \n 2   Married            611 non-null    object \n 3   Dependents         599 non-null    object \n 4   Education          614 non-null    object \n 5   Self_Employed      582 non-null    object \n 6   ApplicantIncome    614 non-null    int64  \n 7   CoapplicantIncome  614 non-null    float64\n 8   LoanAmount         592 non-null    float64\n 9   Loan_Amount_Term   600 non-null    float64\n 10  Credit_History     564 non-null    float64\n 11  Property_Area      614 non-null    object \n 12  Loan_Status        614 non-null    object \ndtypes: float64(4), int64(1), object(8)\nmemory usage: 43.2+ KB\n",
          "output_type": "stream"
        }
      ],
      "id": "c7a26957-1d43-40e8-8b01-837a21442f82"
    },
    {
      "cell_type": "code",
      "source": "data.isnull().sum()",
      "metadata": {
        "trusted": true
      },
      "execution_count": 9,
      "outputs": [
        {
          "execution_count": 9,
          "output_type": "execute_result",
          "data": {
            "text/plain": "Loan_ID               0\nGender               13\nMarried               3\nDependents           15\nEducation             0\nSelf_Employed        32\nApplicantIncome       0\nCoapplicantIncome     0\nLoanAmount           22\nLoan_Amount_Term     14\nCredit_History       50\nProperty_Area         0\nLoan_Status           0\ndtype: int64"
          },
          "metadata": {}
        }
      ],
      "id": "90575f71-d20c-4641-bb66-586c9313f908"
    },
    {
      "cell_type": "code",
      "source": "data.isnull.sum()*100/len(data)",
      "metadata": {
        "trusted": true
      },
      "execution_count": 10,
      "outputs": [
        {
          "ename": "<class 'AttributeError'>",
          "evalue": "'function' object has no attribute 'sum'",
          "traceback": [
            "\u001b[0;31m---------------------------------------------------------------------------\u001b[0m",
            "\u001b[0;31mAttributeError\u001b[0m                            Traceback (most recent call last)",
            "Cell \u001b[0;32mIn[10], line 1\u001b[0m\n\u001b[0;32m----> 1\u001b[0m \u001b[43mdata\u001b[49m\u001b[38;5;241;43m.\u001b[39;49m\u001b[43misnull\u001b[49m\u001b[38;5;241;43m.\u001b[39;49m\u001b[43msum\u001b[49m()\u001b[38;5;241m*\u001b[39m\u001b[38;5;241m100\u001b[39m\u001b[38;5;241m/\u001b[39m\u001b[38;5;28mlen\u001b[39m(data)\n",
            "\u001b[0;31mAttributeError\u001b[0m: 'function' object has no attribute 'sum'"
          ],
          "output_type": "error"
        }
      ],
      "id": "f5a0462a-0c44-48ee-b3c3-a855f5211d13"
    },
    {
      "cell_type": "code",
      "source": "data.isnull().sum()*100/len(data)",
      "metadata": {
        "trusted": true
      },
      "execution_count": 11,
      "outputs": [
        {
          "execution_count": 11,
          "output_type": "execute_result",
          "data": {
            "text/plain": "Loan_ID              0.000000\nGender               2.117264\nMarried              0.488599\nDependents           2.442997\nEducation            0.000000\nSelf_Employed        5.211726\nApplicantIncome      0.000000\nCoapplicantIncome    0.000000\nLoanAmount           3.583062\nLoan_Amount_Term     2.280130\nCredit_History       8.143322\nProperty_Area        0.000000\nLoan_Status          0.000000\ndtype: float64"
          },
          "metadata": {}
        }
      ],
      "id": "ec4bdef3-c3fe-4e47-94eb-36d3324476da"
    },
    {
      "cell_type": "code",
      "source": "data=data.drop('Loan_ID',axis=1)",
      "metadata": {
        "trusted": true
      },
      "execution_count": 12,
      "outputs": [],
      "id": "0b39d916-514e-4cf3-a107-ae5e6cd768e7"
    },
    {
      "cell_type": "code",
      "source": "data.head(1)",
      "metadata": {
        "trusted": true
      },
      "execution_count": 13,
      "outputs": [
        {
          "execution_count": 13,
          "output_type": "execute_result",
          "data": {
            "text/plain": "  Gender Married Dependents Education Self_Employed  ApplicantIncome  \\\n0   Male      No          0  Graduate            No             5849   \n\n   CoapplicantIncome  LoanAmount  Loan_Amount_Term  Credit_History  \\\n0                0.0         NaN             360.0             1.0   \n\n  Property_Area Loan_Status  \n0         Urban           Y  ",
            "text/html": "<div>\n<style scoped>\n    .dataframe tbody tr th:only-of-type {\n        vertical-align: middle;\n    }\n\n    .dataframe tbody tr th {\n        vertical-align: top;\n    }\n\n    .dataframe thead th {\n        text-align: right;\n    }\n</style>\n<table border=\"1\" class=\"dataframe\">\n  <thead>\n    <tr style=\"text-align: right;\">\n      <th></th>\n      <th>Gender</th>\n      <th>Married</th>\n      <th>Dependents</th>\n      <th>Education</th>\n      <th>Self_Employed</th>\n      <th>ApplicantIncome</th>\n      <th>CoapplicantIncome</th>\n      <th>LoanAmount</th>\n      <th>Loan_Amount_Term</th>\n      <th>Credit_History</th>\n      <th>Property_Area</th>\n      <th>Loan_Status</th>\n    </tr>\n  </thead>\n  <tbody>\n    <tr>\n      <th>0</th>\n      <td>Male</td>\n      <td>No</td>\n      <td>0</td>\n      <td>Graduate</td>\n      <td>No</td>\n      <td>5849</td>\n      <td>0.0</td>\n      <td>NaN</td>\n      <td>360.0</td>\n      <td>1.0</td>\n      <td>Urban</td>\n      <td>Y</td>\n    </tr>\n  </tbody>\n</table>\n</div>"
          },
          "metadata": {}
        }
      ],
      "id": "0a9a265a-33e1-4369-a8cd-283e972e6a03"
    },
    {
      "cell_type": "code",
      "source": "columns=['Gender','Dependents','LoanAmount','Loan_Amount_Term']",
      "metadata": {
        "trusted": true
      },
      "execution_count": 14,
      "outputs": [],
      "id": "30841e5a-871d-45e5-bacb-aafcdbe75256"
    },
    {
      "cell_type": "code",
      "source": "data=data.dropna(subset=columns)",
      "metadata": {
        "trusted": true
      },
      "execution_count": 15,
      "outputs": [],
      "id": "c9b8fca9-4fa1-4e57-8a86-3dae7f9264b7"
    },
    {
      "cell_type": "code",
      "source": "data.isnull().sum*100/len(data)",
      "metadata": {
        "trusted": true
      },
      "execution_count": 16,
      "outputs": [
        {
          "ename": "<class 'TypeError'>",
          "evalue": "unsupported operand type(s) for *: 'method' and 'int'",
          "traceback": [
            "\u001b[0;31m---------------------------------------------------------------------------\u001b[0m",
            "\u001b[0;31mTypeError\u001b[0m                                 Traceback (most recent call last)",
            "Cell \u001b[0;32mIn[16], line 1\u001b[0m\n\u001b[0;32m----> 1\u001b[0m \u001b[43mdata\u001b[49m\u001b[38;5;241;43m.\u001b[39;49m\u001b[43misnull\u001b[49m\u001b[43m(\u001b[49m\u001b[43m)\u001b[49m\u001b[38;5;241;43m.\u001b[39;49m\u001b[43msum\u001b[49m\u001b[38;5;241;43m*\u001b[39;49m\u001b[38;5;241;43m100\u001b[39;49m\u001b[38;5;241m/\u001b[39m\u001b[38;5;28mlen\u001b[39m(data)\n",
            "\u001b[0;31mTypeError\u001b[0m: unsupported operand type(s) for *: 'method' and 'int'"
          ],
          "output_type": "error"
        }
      ],
      "id": "3256da70-aa7f-42ef-9011-e4475907e776"
    },
    {
      "cell_type": "code",
      "source": "data.isnull().sum()*100/len(data)",
      "metadata": {
        "trusted": true
      },
      "execution_count": 17,
      "outputs": [
        {
          "execution_count": 17,
          "output_type": "execute_result",
          "data": {
            "text/plain": "Gender               0.000000\nMarried              0.000000\nDependents           0.000000\nEducation            0.000000\nSelf_Employed        5.424955\nApplicantIncome      0.000000\nCoapplicantIncome    0.000000\nLoanAmount           0.000000\nLoan_Amount_Term     0.000000\nCredit_History       8.679928\nProperty_Area        0.000000\nLoan_Status          0.000000\ndtype: float64"
          },
          "metadata": {}
        }
      ],
      "id": "a5d6d4ce-4abb-4543-92d4-9ab7861cfe1c"
    },
    {
      "cell_type": "code",
      "source": "data['Self_Employed'].mode()[0]",
      "metadata": {
        "trusted": true
      },
      "execution_count": 18,
      "outputs": [
        {
          "execution_count": 18,
          "output_type": "execute_result",
          "data": {
            "text/plain": "'No'"
          },
          "metadata": {}
        }
      ],
      "id": "8fb381df-cb98-41a8-a1ec-5f2ce2a0aded"
    },
    {
      "cell_type": "code",
      "source": "data['Self_Employed'] =data['Self_Employed'].fillna(data['Self_Employed'].mode()[0])",
      "metadata": {
        "trusted": true
      },
      "execution_count": 20,
      "outputs": [],
      "id": "b51506c7-2634-4ee6-b8fa-74fc16adaccf"
    },
    {
      "cell_type": "code",
      "source": "data.isnull().sum()*100 / len(data)",
      "metadata": {
        "trusted": true
      },
      "execution_count": 21,
      "outputs": [
        {
          "execution_count": 21,
          "output_type": "execute_result",
          "data": {
            "text/plain": "Gender               0.000000\nMarried              0.000000\nDependents           0.000000\nEducation            0.000000\nSelf_Employed        0.000000\nApplicantIncome      0.000000\nCoapplicantIncome    0.000000\nLoanAmount           0.000000\nLoan_Amount_Term     0.000000\nCredit_History       8.679928\nProperty_Area        0.000000\nLoan_Status          0.000000\ndtype: float64"
          },
          "metadata": {}
        }
      ],
      "id": "d9f47fb4-73f5-4c64-bba3-e50cca8e509d"
    },
    {
      "cell_type": "code",
      "source": "data['Gender'].unique()",
      "metadata": {
        "trusted": true
      },
      "execution_count": 22,
      "outputs": [
        {
          "execution_count": 22,
          "output_type": "execute_result",
          "data": {
            "text/plain": "array(['Male', 'Female'], dtype=object)"
          },
          "metadata": {}
        }
      ],
      "id": "5af88646-c318-4b56-93aa-99324747d163"
    },
    {
      "cell_type": "code",
      "source": "data['Self_Employed'].unique()",
      "metadata": {
        "trusted": true
      },
      "execution_count": 23,
      "outputs": [
        {
          "execution_count": 23,
          "output_type": "execute_result",
          "data": {
            "text/plain": "array(['No', 'Yes'], dtype=object)"
          },
          "metadata": {}
        }
      ],
      "id": "6ff97603-9070-4c40-a8b3-cac14599f713"
    },
    {
      "cell_type": "code",
      "source": "data['Credit_History'].mode()[0]",
      "metadata": {
        "trusted": true
      },
      "execution_count": 24,
      "outputs": [
        {
          "execution_count": 24,
          "output_type": "execute_result",
          "data": {
            "text/plain": "1.0"
          },
          "metadata": {}
        }
      ],
      "id": "83d2a8ba-dc1a-43ea-8d19-1d0681fb0023"
    },
    {
      "cell_type": "code",
      "source": "data['Credit_History'] =data['Credit_History'].fillna(data['Credit_History'].mode()[0])",
      "metadata": {
        "trusted": true
      },
      "execution_count": 25,
      "outputs": [],
      "id": "37b69fea-7471-408e-9297-cf3411a21baa"
    },
    {
      "cell_type": "code",
      "source": "data.isnull().sum()*100 / len(data)",
      "metadata": {
        "trusted": true
      },
      "execution_count": 26,
      "outputs": [
        {
          "execution_count": 26,
          "output_type": "execute_result",
          "data": {
            "text/plain": "Gender               0.0\nMarried              0.0\nDependents           0.0\nEducation            0.0\nSelf_Employed        0.0\nApplicantIncome      0.0\nCoapplicantIncome    0.0\nLoanAmount           0.0\nLoan_Amount_Term     0.0\nCredit_History       0.0\nProperty_Area        0.0\nLoan_Status          0.0\ndtype: float64"
          },
          "metadata": {}
        }
      ],
      "id": "182cafa8-cb16-4feb-b43b-bd9f7a04ad2e"
    },
    {
      "cell_type": "code",
      "source": "data.sample(5)",
      "metadata": {
        "trusted": true
      },
      "execution_count": 27,
      "outputs": [
        {
          "execution_count": 27,
          "output_type": "execute_result",
          "data": {
            "text/plain": "     Gender Married Dependents     Education Self_Employed  ApplicantIncome  \\\n538    Male     Yes          0  Not Graduate            No             2917   \n93     Male      No          0      Graduate            No             4133   \n125  Female      No          0      Graduate            No             3692   \n323  Female      No          0      Graduate            No             3166   \n217    Male     Yes          0      Graduate            No             3727   \n\n     CoapplicantIncome  LoanAmount  Loan_Amount_Term  Credit_History  \\\n538              536.0        66.0             360.0             1.0   \n93                 0.0       122.0             360.0             1.0   \n125                0.0        93.0             360.0             1.0   \n323             2985.0       132.0             360.0             1.0   \n217             1775.0       131.0             360.0             1.0   \n\n    Property_Area Loan_Status  \n538         Rural           N  \n93      Semiurban           Y  \n125         Rural           Y  \n323         Rural           Y  \n217     Semiurban           Y  ",
            "text/html": "<div>\n<style scoped>\n    .dataframe tbody tr th:only-of-type {\n        vertical-align: middle;\n    }\n\n    .dataframe tbody tr th {\n        vertical-align: top;\n    }\n\n    .dataframe thead th {\n        text-align: right;\n    }\n</style>\n<table border=\"1\" class=\"dataframe\">\n  <thead>\n    <tr style=\"text-align: right;\">\n      <th></th>\n      <th>Gender</th>\n      <th>Married</th>\n      <th>Dependents</th>\n      <th>Education</th>\n      <th>Self_Employed</th>\n      <th>ApplicantIncome</th>\n      <th>CoapplicantIncome</th>\n      <th>LoanAmount</th>\n      <th>Loan_Amount_Term</th>\n      <th>Credit_History</th>\n      <th>Property_Area</th>\n      <th>Loan_Status</th>\n    </tr>\n  </thead>\n  <tbody>\n    <tr>\n      <th>538</th>\n      <td>Male</td>\n      <td>Yes</td>\n      <td>0</td>\n      <td>Not Graduate</td>\n      <td>No</td>\n      <td>2917</td>\n      <td>536.0</td>\n      <td>66.0</td>\n      <td>360.0</td>\n      <td>1.0</td>\n      <td>Rural</td>\n      <td>N</td>\n    </tr>\n    <tr>\n      <th>93</th>\n      <td>Male</td>\n      <td>No</td>\n      <td>0</td>\n      <td>Graduate</td>\n      <td>No</td>\n      <td>4133</td>\n      <td>0.0</td>\n      <td>122.0</td>\n      <td>360.0</td>\n      <td>1.0</td>\n      <td>Semiurban</td>\n      <td>Y</td>\n    </tr>\n    <tr>\n      <th>125</th>\n      <td>Female</td>\n      <td>No</td>\n      <td>0</td>\n      <td>Graduate</td>\n      <td>No</td>\n      <td>3692</td>\n      <td>0.0</td>\n      <td>93.0</td>\n      <td>360.0</td>\n      <td>1.0</td>\n      <td>Rural</td>\n      <td>Y</td>\n    </tr>\n    <tr>\n      <th>323</th>\n      <td>Female</td>\n      <td>No</td>\n      <td>0</td>\n      <td>Graduate</td>\n      <td>No</td>\n      <td>3166</td>\n      <td>2985.0</td>\n      <td>132.0</td>\n      <td>360.0</td>\n      <td>1.0</td>\n      <td>Rural</td>\n      <td>Y</td>\n    </tr>\n    <tr>\n      <th>217</th>\n      <td>Male</td>\n      <td>Yes</td>\n      <td>0</td>\n      <td>Graduate</td>\n      <td>No</td>\n      <td>3727</td>\n      <td>1775.0</td>\n      <td>131.0</td>\n      <td>360.0</td>\n      <td>1.0</td>\n      <td>Semiurban</td>\n      <td>Y</td>\n    </tr>\n  </tbody>\n</table>\n</div>"
          },
          "metadata": {}
        }
      ],
      "id": "982dabf3-294f-4f16-8ea8-134bc9508e78"
    },
    {
      "cell_type": "code",
      "source": "data['Dependents'] =data['Dependents'].replace(to_replace=\"3+\",value='4')",
      "metadata": {
        "trusted": true
      },
      "execution_count": 28,
      "outputs": [],
      "id": "b8575e6e-d3a1-4723-b757-a6a995bd3a2a"
    },
    {
      "cell_type": "code",
      "source": "data['Dependents'].unique()",
      "metadata": {
        "trusted": true
      },
      "execution_count": 29,
      "outputs": [
        {
          "execution_count": 29,
          "output_type": "execute_result",
          "data": {
            "text/plain": "array(['1', '0', '2', '4'], dtype=object)"
          },
          "metadata": {}
        }
      ],
      "id": "04c464e4-bc09-49ad-97d9-89f806975469"
    },
    {
      "cell_type": "code",
      "source": "data['Loan_Status'].unique()",
      "metadata": {
        "trusted": true
      },
      "execution_count": 30,
      "outputs": [
        {
          "execution_count": 30,
          "output_type": "execute_result",
          "data": {
            "text/plain": "array(['N', 'Y'], dtype=object)"
          },
          "metadata": {}
        }
      ],
      "id": "3f70b01a-6bad-4077-b608-9a9b530261ee"
    },
    {
      "cell_type": "code",
      "source": "data['Gender'] = data['Gender'].map({'Male':1,'Female':0}).astype('int')\ndata['Married'] = data['Married'].map({'Yes':1,'No':0}).astype('int')\ndata['Education'] = data['Education'].map({'Graduate':1,'Not Graduate':0}).astype('int')\ndata['Self_Employed'] = data['Self_Employed'].map({'Yes':1,'No':0}).astype('int')\ndata['Property_Area'] = data['Property_Area'].map({'Rural':0,'Semiurban':2,'Urban':1}).astype('int')\ndata['Loan_Status'] = data['Loan_Status'].map({'Y':1,'N':0}).astype('int')",
      "metadata": {
        "trusted": true
      },
      "execution_count": 31,
      "outputs": [],
      "id": "96ba6f4d-3f97-4bf8-b460-5fcc1af7547b"
    },
    {
      "cell_type": "code",
      "source": "data.head()",
      "metadata": {
        "trusted": true
      },
      "execution_count": 32,
      "outputs": [
        {
          "execution_count": 32,
          "output_type": "execute_result",
          "data": {
            "text/plain": "   Gender  Married Dependents  Education  Self_Employed  ApplicantIncome  \\\n1       1        1          1          1              0             4583   \n2       1        1          0          1              1             3000   \n3       1        1          0          0              0             2583   \n4       1        0          0          1              0             6000   \n5       1        1          2          1              1             5417   \n\n   CoapplicantIncome  LoanAmount  Loan_Amount_Term  Credit_History  \\\n1             1508.0       128.0             360.0             1.0   \n2                0.0        66.0             360.0             1.0   \n3             2358.0       120.0             360.0             1.0   \n4                0.0       141.0             360.0             1.0   \n5             4196.0       267.0             360.0             1.0   \n\n   Property_Area  Loan_Status  \n1              0            0  \n2              1            1  \n3              1            1  \n4              1            1  \n5              1            1  ",
            "text/html": "<div>\n<style scoped>\n    .dataframe tbody tr th:only-of-type {\n        vertical-align: middle;\n    }\n\n    .dataframe tbody tr th {\n        vertical-align: top;\n    }\n\n    .dataframe thead th {\n        text-align: right;\n    }\n</style>\n<table border=\"1\" class=\"dataframe\">\n  <thead>\n    <tr style=\"text-align: right;\">\n      <th></th>\n      <th>Gender</th>\n      <th>Married</th>\n      <th>Dependents</th>\n      <th>Education</th>\n      <th>Self_Employed</th>\n      <th>ApplicantIncome</th>\n      <th>CoapplicantIncome</th>\n      <th>LoanAmount</th>\n      <th>Loan_Amount_Term</th>\n      <th>Credit_History</th>\n      <th>Property_Area</th>\n      <th>Loan_Status</th>\n    </tr>\n  </thead>\n  <tbody>\n    <tr>\n      <th>1</th>\n      <td>1</td>\n      <td>1</td>\n      <td>1</td>\n      <td>1</td>\n      <td>0</td>\n      <td>4583</td>\n      <td>1508.0</td>\n      <td>128.0</td>\n      <td>360.0</td>\n      <td>1.0</td>\n      <td>0</td>\n      <td>0</td>\n    </tr>\n    <tr>\n      <th>2</th>\n      <td>1</td>\n      <td>1</td>\n      <td>0</td>\n      <td>1</td>\n      <td>1</td>\n      <td>3000</td>\n      <td>0.0</td>\n      <td>66.0</td>\n      <td>360.0</td>\n      <td>1.0</td>\n      <td>1</td>\n      <td>1</td>\n    </tr>\n    <tr>\n      <th>3</th>\n      <td>1</td>\n      <td>1</td>\n      <td>0</td>\n      <td>0</td>\n      <td>0</td>\n      <td>2583</td>\n      <td>2358.0</td>\n      <td>120.0</td>\n      <td>360.0</td>\n      <td>1.0</td>\n      <td>1</td>\n      <td>1</td>\n    </tr>\n    <tr>\n      <th>4</th>\n      <td>1</td>\n      <td>0</td>\n      <td>0</td>\n      <td>1</td>\n      <td>0</td>\n      <td>6000</td>\n      <td>0.0</td>\n      <td>141.0</td>\n      <td>360.0</td>\n      <td>1.0</td>\n      <td>1</td>\n      <td>1</td>\n    </tr>\n    <tr>\n      <th>5</th>\n      <td>1</td>\n      <td>1</td>\n      <td>2</td>\n      <td>1</td>\n      <td>1</td>\n      <td>5417</td>\n      <td>4196.0</td>\n      <td>267.0</td>\n      <td>360.0</td>\n      <td>1.0</td>\n      <td>1</td>\n      <td>1</td>\n    </tr>\n  </tbody>\n</table>\n</div>"
          },
          "metadata": {}
        }
      ],
      "id": "e1296bce-d3ee-4947-8717-e828478d8d2f"
    },
    {
      "cell_type": "code",
      "source": "X = data.drop('Loan_Status',axis=1)",
      "metadata": {
        "trusted": true
      },
      "execution_count": 33,
      "outputs": [],
      "id": "2322da3a-5349-4ece-b087-65660b980af6"
    },
    {
      "cell_type": "code",
      "source": "y = data['Loan_Status']",
      "metadata": {
        "trusted": true
      },
      "execution_count": 34,
      "outputs": [],
      "id": "58eb5664-7c8f-44ab-a034-df1dbb94ff19"
    },
    {
      "cell_type": "code",
      "source": "y",
      "metadata": {
        "trusted": true
      },
      "execution_count": 35,
      "outputs": [
        {
          "execution_count": 35,
          "output_type": "execute_result",
          "data": {
            "text/plain": "1      0\n2      1\n3      1\n4      1\n5      1\n      ..\n609    1\n610    1\n611    1\n612    1\n613    0\nName: Loan_Status, Length: 553, dtype: int32"
          },
          "metadata": {}
        }
      ],
      "id": "cbf9b371-dab2-4137-9826-b413e9bf6428"
    },
    {
      "cell_type": "code",
      "source": "data.head()",
      "metadata": {
        "trusted": true
      },
      "execution_count": 36,
      "outputs": [
        {
          "execution_count": 36,
          "output_type": "execute_result",
          "data": {
            "text/plain": "   Gender  Married Dependents  Education  Self_Employed  ApplicantIncome  \\\n1       1        1          1          1              0             4583   \n2       1        1          0          1              1             3000   \n3       1        1          0          0              0             2583   \n4       1        0          0          1              0             6000   \n5       1        1          2          1              1             5417   \n\n   CoapplicantIncome  LoanAmount  Loan_Amount_Term  Credit_History  \\\n1             1508.0       128.0             360.0             1.0   \n2                0.0        66.0             360.0             1.0   \n3             2358.0       120.0             360.0             1.0   \n4                0.0       141.0             360.0             1.0   \n5             4196.0       267.0             360.0             1.0   \n\n   Property_Area  Loan_Status  \n1              0            0  \n2              1            1  \n3              1            1  \n4              1            1  \n5              1            1  ",
            "text/html": "<div>\n<style scoped>\n    .dataframe tbody tr th:only-of-type {\n        vertical-align: middle;\n    }\n\n    .dataframe tbody tr th {\n        vertical-align: top;\n    }\n\n    .dataframe thead th {\n        text-align: right;\n    }\n</style>\n<table border=\"1\" class=\"dataframe\">\n  <thead>\n    <tr style=\"text-align: right;\">\n      <th></th>\n      <th>Gender</th>\n      <th>Married</th>\n      <th>Dependents</th>\n      <th>Education</th>\n      <th>Self_Employed</th>\n      <th>ApplicantIncome</th>\n      <th>CoapplicantIncome</th>\n      <th>LoanAmount</th>\n      <th>Loan_Amount_Term</th>\n      <th>Credit_History</th>\n      <th>Property_Area</th>\n      <th>Loan_Status</th>\n    </tr>\n  </thead>\n  <tbody>\n    <tr>\n      <th>1</th>\n      <td>1</td>\n      <td>1</td>\n      <td>1</td>\n      <td>1</td>\n      <td>0</td>\n      <td>4583</td>\n      <td>1508.0</td>\n      <td>128.0</td>\n      <td>360.0</td>\n      <td>1.0</td>\n      <td>0</td>\n      <td>0</td>\n    </tr>\n    <tr>\n      <th>2</th>\n      <td>1</td>\n      <td>1</td>\n      <td>0</td>\n      <td>1</td>\n      <td>1</td>\n      <td>3000</td>\n      <td>0.0</td>\n      <td>66.0</td>\n      <td>360.0</td>\n      <td>1.0</td>\n      <td>1</td>\n      <td>1</td>\n    </tr>\n    <tr>\n      <th>3</th>\n      <td>1</td>\n      <td>1</td>\n      <td>0</td>\n      <td>0</td>\n      <td>0</td>\n      <td>2583</td>\n      <td>2358.0</td>\n      <td>120.0</td>\n      <td>360.0</td>\n      <td>1.0</td>\n      <td>1</td>\n      <td>1</td>\n    </tr>\n    <tr>\n      <th>4</th>\n      <td>1</td>\n      <td>0</td>\n      <td>0</td>\n      <td>1</td>\n      <td>0</td>\n      <td>6000</td>\n      <td>0.0</td>\n      <td>141.0</td>\n      <td>360.0</td>\n      <td>1.0</td>\n      <td>1</td>\n      <td>1</td>\n    </tr>\n    <tr>\n      <th>5</th>\n      <td>1</td>\n      <td>1</td>\n      <td>2</td>\n      <td>1</td>\n      <td>1</td>\n      <td>5417</td>\n      <td>4196.0</td>\n      <td>267.0</td>\n      <td>360.0</td>\n      <td>1.0</td>\n      <td>1</td>\n      <td>1</td>\n    </tr>\n  </tbody>\n</table>\n</div>"
          },
          "metadata": {}
        }
      ],
      "id": "fe61656d-19d9-4c62-9733-1afb89d9b10d"
    },
    {
      "cell_type": "code",
      "source": "cols = ['ApplicantIncome','CoapplicantIncome','LoanAmount','Loan_Amount_Term']",
      "metadata": {
        "trusted": true
      },
      "execution_count": 37,
      "outputs": [],
      "id": "288740be-876c-403b-a140-34de64aa253e"
    },
    {
      "cell_type": "code",
      "source": "from sklearn.preprocessing import StandardScaler\nst = StandardScaler()\nX[cols]=st.fit_transform(X[cols])",
      "metadata": {
        "trusted": true
      },
      "execution_count": 41,
      "outputs": [],
      "id": "1a511290-3ad9-42a3-8e30-5289acf6c8ee"
    },
    {
      "cell_type": "code",
      "source": "X",
      "metadata": {
        "trusted": true
      },
      "execution_count": 42,
      "outputs": [
        {
          "execution_count": 42,
          "output_type": "execute_result",
          "data": {
            "text/plain": "     Gender  Married Dependents  Education  Self_Employed  ApplicantIncome  \\\n1         1        1          1          1              0        -0.128694   \n2         1        1          0          1              1        -0.394296   \n3         1        1          0          0              0        -0.464262   \n4         1        0          0          1              0         0.109057   \n5         1        1          2          1              1         0.011239   \n..      ...      ...        ...        ...            ...              ...   \n609       0        0          0          1              0        -0.411075   \n610       1        1          4          1              0        -0.208727   \n611       1        1          1          1              0         0.456706   \n612       1        1          2          1              0         0.374659   \n613       0        0          0          1              1        -0.128694   \n\n     CoapplicantIncome  LoanAmount  Loan_Amount_Term  Credit_History  \\\n1            -0.049699   -0.214368          0.279961             1.0   \n2            -0.545638   -0.952675          0.279961             1.0   \n3             0.229842   -0.309634          0.279961             1.0   \n4            -0.545638   -0.059562          0.279961             1.0   \n5             0.834309    1.440866          0.279961             1.0   \n..                 ...         ...               ...             ...   \n609          -0.545638   -0.893134          0.279961             1.0   \n610          -0.545638   -1.262287         -2.468292             1.0   \n611          -0.466709    1.274152          0.279961             1.0   \n612          -0.545638    0.488213          0.279961             1.0   \n613          -0.545638   -0.154828          0.279961             0.0   \n\n     Property_Area  \n1                0  \n2                1  \n3                1  \n4                1  \n5                1  \n..             ...  \n609              0  \n610              0  \n611              1  \n612              1  \n613              2  \n\n[553 rows x 11 columns]",
            "text/html": "<div>\n<style scoped>\n    .dataframe tbody tr th:only-of-type {\n        vertical-align: middle;\n    }\n\n    .dataframe tbody tr th {\n        vertical-align: top;\n    }\n\n    .dataframe thead th {\n        text-align: right;\n    }\n</style>\n<table border=\"1\" class=\"dataframe\">\n  <thead>\n    <tr style=\"text-align: right;\">\n      <th></th>\n      <th>Gender</th>\n      <th>Married</th>\n      <th>Dependents</th>\n      <th>Education</th>\n      <th>Self_Employed</th>\n      <th>ApplicantIncome</th>\n      <th>CoapplicantIncome</th>\n      <th>LoanAmount</th>\n      <th>Loan_Amount_Term</th>\n      <th>Credit_History</th>\n      <th>Property_Area</th>\n    </tr>\n  </thead>\n  <tbody>\n    <tr>\n      <th>1</th>\n      <td>1</td>\n      <td>1</td>\n      <td>1</td>\n      <td>1</td>\n      <td>0</td>\n      <td>-0.128694</td>\n      <td>-0.049699</td>\n      <td>-0.214368</td>\n      <td>0.279961</td>\n      <td>1.0</td>\n      <td>0</td>\n    </tr>\n    <tr>\n      <th>2</th>\n      <td>1</td>\n      <td>1</td>\n      <td>0</td>\n      <td>1</td>\n      <td>1</td>\n      <td>-0.394296</td>\n      <td>-0.545638</td>\n      <td>-0.952675</td>\n      <td>0.279961</td>\n      <td>1.0</td>\n      <td>1</td>\n    </tr>\n    <tr>\n      <th>3</th>\n      <td>1</td>\n      <td>1</td>\n      <td>0</td>\n      <td>0</td>\n      <td>0</td>\n      <td>-0.464262</td>\n      <td>0.229842</td>\n      <td>-0.309634</td>\n      <td>0.279961</td>\n      <td>1.0</td>\n      <td>1</td>\n    </tr>\n    <tr>\n      <th>4</th>\n      <td>1</td>\n      <td>0</td>\n      <td>0</td>\n      <td>1</td>\n      <td>0</td>\n      <td>0.109057</td>\n      <td>-0.545638</td>\n      <td>-0.059562</td>\n      <td>0.279961</td>\n      <td>1.0</td>\n      <td>1</td>\n    </tr>\n    <tr>\n      <th>5</th>\n      <td>1</td>\n      <td>1</td>\n      <td>2</td>\n      <td>1</td>\n      <td>1</td>\n      <td>0.011239</td>\n      <td>0.834309</td>\n      <td>1.440866</td>\n      <td>0.279961</td>\n      <td>1.0</td>\n      <td>1</td>\n    </tr>\n    <tr>\n      <th>...</th>\n      <td>...</td>\n      <td>...</td>\n      <td>...</td>\n      <td>...</td>\n      <td>...</td>\n      <td>...</td>\n      <td>...</td>\n      <td>...</td>\n      <td>...</td>\n      <td>...</td>\n      <td>...</td>\n    </tr>\n    <tr>\n      <th>609</th>\n      <td>0</td>\n      <td>0</td>\n      <td>0</td>\n      <td>1</td>\n      <td>0</td>\n      <td>-0.411075</td>\n      <td>-0.545638</td>\n      <td>-0.893134</td>\n      <td>0.279961</td>\n      <td>1.0</td>\n      <td>0</td>\n    </tr>\n    <tr>\n      <th>610</th>\n      <td>1</td>\n      <td>1</td>\n      <td>4</td>\n      <td>1</td>\n      <td>0</td>\n      <td>-0.208727</td>\n      <td>-0.545638</td>\n      <td>-1.262287</td>\n      <td>-2.468292</td>\n      <td>1.0</td>\n      <td>0</td>\n    </tr>\n    <tr>\n      <th>611</th>\n      <td>1</td>\n      <td>1</td>\n      <td>1</td>\n      <td>1</td>\n      <td>0</td>\n      <td>0.456706</td>\n      <td>-0.466709</td>\n      <td>1.274152</td>\n      <td>0.279961</td>\n      <td>1.0</td>\n      <td>1</td>\n    </tr>\n    <tr>\n      <th>612</th>\n      <td>1</td>\n      <td>1</td>\n      <td>2</td>\n      <td>1</td>\n      <td>0</td>\n      <td>0.374659</td>\n      <td>-0.545638</td>\n      <td>0.488213</td>\n      <td>0.279961</td>\n      <td>1.0</td>\n      <td>1</td>\n    </tr>\n    <tr>\n      <th>613</th>\n      <td>0</td>\n      <td>0</td>\n      <td>0</td>\n      <td>1</td>\n      <td>1</td>\n      <td>-0.128694</td>\n      <td>-0.545638</td>\n      <td>-0.154828</td>\n      <td>0.279961</td>\n      <td>0.0</td>\n      <td>2</td>\n    </tr>\n  </tbody>\n</table>\n<p>553 rows × 11 columns</p>\n</div>"
          },
          "metadata": {}
        }
      ],
      "id": "461de51d-9c92-48fd-a85b-c9a3b00baea8"
    },
    {
      "cell_type": "code",
      "source": "from sklearn.model_selection import train_test_split\nfrom sklearn.model_selection import cross_val_score\nfrom sklearn.metrics import accuracy_score\nimport numpy as np",
      "metadata": {
        "trusted": true
      },
      "execution_count": 48,
      "outputs": [],
      "id": "03dc2a28-8e5d-4539-bdc6-2a89d7254c9b"
    },
    {
      "cell_type": "code",
      "source": "model_df={}\ndef model_val(model,X,y):\n    X_train,X_test,y_train,y_test=train_test_split(X,y,\n                                                   test_size=0.20,\n                                                   random_state=42)\n    model.fit(X_train,y_train)\n    y_pred=model.predict(X_test)\n    print(f\"{model} accuracy is {accuracy_score(y_test,y_pred)}\")\n    \n    score = cross_val_score(model,X,y,cv=5)\n    print(f\"{model} Avg cross val score is {np.mean(score)}\")\n    model_df[model]=round(np.mean(score)*100,2)",
      "metadata": {
        "trusted": true
      },
      "execution_count": 53,
      "outputs": [],
      "id": "7554aa16-4760-4e0b-b8f5-85a2404ac23f"
    },
    {
      "cell_type": "code",
      "source": "model_df",
      "metadata": {
        "trusted": true
      },
      "execution_count": 54,
      "outputs": [
        {
          "execution_count": 54,
          "output_type": "execute_result",
          "data": {
            "text/plain": "{}"
          },
          "metadata": {}
        }
      ],
      "id": "6409ad8a-7784-470e-9a3a-5d40c5c2d24a"
    },
    {
      "cell_type": "code",
      "source": "from sklearn.linear_model import LogisticRegression\nmodel = LogisticRegression()\nmodel_val(model,X,y)",
      "metadata": {
        "trusted": true
      },
      "execution_count": 55,
      "outputs": [
        {
          "name": "stdout",
          "text": "LogisticRegression() accuracy is 0.8018018018018018\nLogisticRegression() Avg cross val score is 0.8047829647829647\n",
          "output_type": "stream"
        }
      ],
      "id": "56c60466-2c58-4c86-89fe-f833df4207a4"
    },
    {
      "cell_type": "code",
      "source": "from sklearn import svm\nmodel = svm.SVC()\nmodel_val(model,X,y)",
      "metadata": {
        "trusted": true
      },
      "execution_count": 56,
      "outputs": [
        {
          "name": "stdout",
          "text": "SVC() accuracy is 0.7927927927927928\nSVC() Avg cross val score is 0.7938902538902539\n",
          "output_type": "stream"
        }
      ],
      "id": "24e558bf-1373-4b40-96f9-0af5c1fe997f"
    },
    {
      "cell_type": "code",
      "source": "from sklearn.tree import DecisionTreeClassifier\nmodel = DecisionTreeClassifier()\nmodel_val(model,X,y)",
      "metadata": {
        "trusted": true
      },
      "execution_count": 57,
      "outputs": [
        {
          "name": "stdout",
          "text": "DecisionTreeClassifier() accuracy is 0.7297297297297297\nDecisionTreeClassifier() Avg cross val score is 0.707108927108927\n",
          "output_type": "stream"
        }
      ],
      "id": "f48adb0d-46cb-4620-8b7a-b131f90f87e1"
    },
    {
      "cell_type": "code",
      "source": "from sklearn.ensemble import RandomForestClassifier\nmodel =RandomForestClassifier()\nmodel_val(model,X,y)",
      "metadata": {
        "trusted": true
      },
      "execution_count": 58,
      "outputs": [
        {
          "name": "stdout",
          "text": "RandomForestClassifier() accuracy is 0.7747747747747747\nRandomForestClassifier() Avg cross val score is 0.7902538902538903\n",
          "output_type": "stream"
        }
      ],
      "id": "b7114052-12fb-48f4-bc04-0bc3dae8dd68"
    },
    {
      "cell_type": "code",
      "source": "from sklearn.ensemble import GradientBoostingClassifier\nmodel =GradientBoostingClassifier()\nmodel_val(model,X,y)",
      "metadata": {
        "trusted": true
      },
      "execution_count": 59,
      "outputs": [
        {
          "name": "stdout",
          "text": "GradientBoostingClassifier() accuracy is 0.7927927927927928\nGradientBoostingClassifier() Avg cross val score is 0.7776085176085176\n",
          "output_type": "stream"
        }
      ],
      "id": "1c28f015-7c4f-4cf1-b11a-e0c52725b5bd"
    },
    {
      "cell_type": "code",
      "source": "from sklearn.model_selection import RandomizedSearchCV",
      "metadata": {
        "trusted": true
      },
      "execution_count": 60,
      "outputs": [],
      "id": "a8ed0bd3-3330-4265-846b-c1ab93555db1"
    },
    {
      "cell_type": "code",
      "source": "log_reg_grid={\"C\":np.logspace(-4,4,20),\n             \"solver\":['liblinear']}",
      "metadata": {
        "trusted": true
      },
      "execution_count": 61,
      "outputs": [],
      "id": "e47ac895-92e6-4090-979a-9645974f531e"
    },
    {
      "cell_type": "code",
      "source": "rs_log_reg=RandomizedSearchCV(LogisticRegression(),\n                   param_distributions=log_reg_grid,\n                  n_iter=20,cv=5,verbose=True)",
      "metadata": {
        "trusted": true
      },
      "execution_count": 62,
      "outputs": [],
      "id": "91db44e8-8067-4a12-8a08-e78356da7179"
    },
    {
      "cell_type": "code",
      "source": "rs_log_reg.fit(X,y)",
      "metadata": {
        "trusted": true
      },
      "execution_count": 63,
      "outputs": [
        {
          "name": "stdout",
          "text": "Fitting 5 folds for each of 20 candidates, totalling 100 fits\n",
          "output_type": "stream"
        },
        {
          "execution_count": 63,
          "output_type": "execute_result",
          "data": {
            "text/plain": "RandomizedSearchCV(cv=5, estimator=LogisticRegression(), n_iter=20,\n                   param_distributions={'C': array([1.00000000e-04, 2.63665090e-04, 6.95192796e-04, 1.83298071e-03,\n       4.83293024e-03, 1.27427499e-02, 3.35981829e-02, 8.85866790e-02,\n       2.33572147e-01, 6.15848211e-01, 1.62377674e+00, 4.28133240e+00,\n       1.12883789e+01, 2.97635144e+01, 7.84759970e+01, 2.06913808e+02,\n       5.45559478e+02, 1.43844989e+03, 3.79269019e+03, 1.00000000e+04]),\n                                        'solver': ['liblinear']},\n                   verbose=True)",
            "text/html": "<style>#sk-container-id-1 {color: black;background-color: white;}#sk-container-id-1 pre{padding: 0;}#sk-container-id-1 div.sk-toggleable {background-color: white;}#sk-container-id-1 label.sk-toggleable__label {cursor: pointer;display: block;width: 100%;margin-bottom: 0;padding: 0.3em;box-sizing: border-box;text-align: center;}#sk-container-id-1 label.sk-toggleable__label-arrow:before {content: \"▸\";float: left;margin-right: 0.25em;color: #696969;}#sk-container-id-1 label.sk-toggleable__label-arrow:hover:before {color: black;}#sk-container-id-1 div.sk-estimator:hover label.sk-toggleable__label-arrow:before {color: black;}#sk-container-id-1 div.sk-toggleable__content {max-height: 0;max-width: 0;overflow: hidden;text-align: left;background-color: #f0f8ff;}#sk-container-id-1 div.sk-toggleable__content pre {margin: 0.2em;color: black;border-radius: 0.25em;background-color: #f0f8ff;}#sk-container-id-1 input.sk-toggleable__control:checked~div.sk-toggleable__content {max-height: 200px;max-width: 100%;overflow: auto;}#sk-container-id-1 input.sk-toggleable__control:checked~label.sk-toggleable__label-arrow:before {content: \"▾\";}#sk-container-id-1 div.sk-estimator input.sk-toggleable__control:checked~label.sk-toggleable__label {background-color: #d4ebff;}#sk-container-id-1 div.sk-label input.sk-toggleable__control:checked~label.sk-toggleable__label {background-color: #d4ebff;}#sk-container-id-1 input.sk-hidden--visually {border: 0;clip: rect(1px 1px 1px 1px);clip: rect(1px, 1px, 1px, 1px);height: 1px;margin: -1px;overflow: hidden;padding: 0;position: absolute;width: 1px;}#sk-container-id-1 div.sk-estimator {font-family: monospace;background-color: #f0f8ff;border: 1px dotted black;border-radius: 0.25em;box-sizing: border-box;margin-bottom: 0.5em;}#sk-container-id-1 div.sk-estimator:hover {background-color: #d4ebff;}#sk-container-id-1 div.sk-parallel-item::after {content: \"\";width: 100%;border-bottom: 1px solid gray;flex-grow: 1;}#sk-container-id-1 div.sk-label:hover label.sk-toggleable__label {background-color: #d4ebff;}#sk-container-id-1 div.sk-serial::before {content: \"\";position: absolute;border-left: 1px solid gray;box-sizing: border-box;top: 0;bottom: 0;left: 50%;z-index: 0;}#sk-container-id-1 div.sk-serial {display: flex;flex-direction: column;align-items: center;background-color: white;padding-right: 0.2em;padding-left: 0.2em;position: relative;}#sk-container-id-1 div.sk-item {position: relative;z-index: 1;}#sk-container-id-1 div.sk-parallel {display: flex;align-items: stretch;justify-content: center;background-color: white;position: relative;}#sk-container-id-1 div.sk-item::before, #sk-container-id-1 div.sk-parallel-item::before {content: \"\";position: absolute;border-left: 1px solid gray;box-sizing: border-box;top: 0;bottom: 0;left: 50%;z-index: -1;}#sk-container-id-1 div.sk-parallel-item {display: flex;flex-direction: column;z-index: 1;position: relative;background-color: white;}#sk-container-id-1 div.sk-parallel-item:first-child::after {align-self: flex-end;width: 50%;}#sk-container-id-1 div.sk-parallel-item:last-child::after {align-self: flex-start;width: 50%;}#sk-container-id-1 div.sk-parallel-item:only-child::after {width: 0;}#sk-container-id-1 div.sk-dashed-wrapped {border: 1px dashed gray;margin: 0 0.4em 0.5em 0.4em;box-sizing: border-box;padding-bottom: 0.4em;background-color: white;}#sk-container-id-1 div.sk-label label {font-family: monospace;font-weight: bold;display: inline-block;line-height: 1.2em;}#sk-container-id-1 div.sk-label-container {text-align: center;}#sk-container-id-1 div.sk-container {/* jupyter's `normalize.less` sets `[hidden] { display: none; }` but bootstrap.min.css set `[hidden] { display: none !important; }` so we also need the `!important` here to be able to override the default hidden behavior on the sphinx rendered scikit-learn.org. See: https://github.com/scikit-learn/scikit-learn/issues/21755 */display: inline-block !important;position: relative;}#sk-container-id-1 div.sk-text-repr-fallback {display: none;}</style><div id=\"sk-container-id-1\" class=\"sk-top-container\"><div class=\"sk-text-repr-fallback\"><pre>RandomizedSearchCV(cv=5, estimator=LogisticRegression(), n_iter=20,\n                   param_distributions={&#x27;C&#x27;: array([1.00000000e-04, 2.63665090e-04, 6.95192796e-04, 1.83298071e-03,\n       4.83293024e-03, 1.27427499e-02, 3.35981829e-02, 8.85866790e-02,\n       2.33572147e-01, 6.15848211e-01, 1.62377674e+00, 4.28133240e+00,\n       1.12883789e+01, 2.97635144e+01, 7.84759970e+01, 2.06913808e+02,\n       5.45559478e+02, 1.43844989e+03, 3.79269019e+03, 1.00000000e+04]),\n                                        &#x27;solver&#x27;: [&#x27;liblinear&#x27;]},\n                   verbose=True)</pre><b>In a Jupyter environment, please rerun this cell to show the HTML representation or trust the notebook. <br />On GitHub, the HTML representation is unable to render, please try loading this page with nbviewer.org.</b></div><div class=\"sk-container\" hidden><div class=\"sk-item sk-dashed-wrapped\"><div class=\"sk-label-container\"><div class=\"sk-label sk-toggleable\"><input class=\"sk-toggleable__control sk-hidden--visually\" id=\"sk-estimator-id-1\" type=\"checkbox\" ><label for=\"sk-estimator-id-1\" class=\"sk-toggleable__label sk-toggleable__label-arrow\">RandomizedSearchCV</label><div class=\"sk-toggleable__content\"><pre>RandomizedSearchCV(cv=5, estimator=LogisticRegression(), n_iter=20,\n                   param_distributions={&#x27;C&#x27;: array([1.00000000e-04, 2.63665090e-04, 6.95192796e-04, 1.83298071e-03,\n       4.83293024e-03, 1.27427499e-02, 3.35981829e-02, 8.85866790e-02,\n       2.33572147e-01, 6.15848211e-01, 1.62377674e+00, 4.28133240e+00,\n       1.12883789e+01, 2.97635144e+01, 7.84759970e+01, 2.06913808e+02,\n       5.45559478e+02, 1.43844989e+03, 3.79269019e+03, 1.00000000e+04]),\n                                        &#x27;solver&#x27;: [&#x27;liblinear&#x27;]},\n                   verbose=True)</pre></div></div></div><div class=\"sk-parallel\"><div class=\"sk-parallel-item\"><div class=\"sk-item\"><div class=\"sk-label-container\"><div class=\"sk-label sk-toggleable\"><input class=\"sk-toggleable__control sk-hidden--visually\" id=\"sk-estimator-id-2\" type=\"checkbox\" ><label for=\"sk-estimator-id-2\" class=\"sk-toggleable__label sk-toggleable__label-arrow\">estimator: LogisticRegression</label><div class=\"sk-toggleable__content\"><pre>LogisticRegression()</pre></div></div></div><div class=\"sk-serial\"><div class=\"sk-item\"><div class=\"sk-estimator sk-toggleable\"><input class=\"sk-toggleable__control sk-hidden--visually\" id=\"sk-estimator-id-3\" type=\"checkbox\" ><label for=\"sk-estimator-id-3\" class=\"sk-toggleable__label sk-toggleable__label-arrow\">LogisticRegression</label><div class=\"sk-toggleable__content\"><pre>LogisticRegression()</pre></div></div></div></div></div></div></div></div></div></div>"
          },
          "metadata": {}
        }
      ],
      "id": "1f44b9bf-2e90-4d2b-bea4-35feb7d0f853"
    },
    {
      "cell_type": "code",
      "source": "rs_log_reg.best_score_",
      "metadata": {
        "trusted": true
      },
      "execution_count": 64,
      "outputs": [
        {
          "execution_count": 64,
          "output_type": "execute_result",
          "data": {
            "text/plain": "0.8047829647829647"
          },
          "metadata": {}
        }
      ],
      "id": "f2bc3db7-78e8-45c8-9513-bd18e8c4f438"
    },
    {
      "cell_type": "code",
      "source": "rs_log_reg.best_params_",
      "metadata": {
        "trusted": true
      },
      "execution_count": 65,
      "outputs": [
        {
          "execution_count": 65,
          "output_type": "execute_result",
          "data": {
            "text/plain": "{'solver': 'liblinear', 'C': 0.23357214690901212}"
          },
          "metadata": {}
        }
      ],
      "id": "abf1da03-9651-422e-abc2-0b1a941cbc3f"
    },
    {
      "cell_type": "code",
      "source": "svc_grid = {'C':[0.25,0.50,0.75,1],\"kernel\":[\"linear\"]}",
      "metadata": {
        "trusted": true
      },
      "execution_count": 66,
      "outputs": [],
      "id": "68d3f25b-16b7-44ed-9bb1-c95b935a1161"
    },
    {
      "cell_type": "code",
      "source": "rs_svc=RandomizedSearchCV(svm.SVC(),\n                  param_distributions=svc_grid,\n                   cv=5,\n                   n_iter=20,\n                  verbose=True)",
      "metadata": {
        "trusted": true
      },
      "execution_count": 67,
      "outputs": [],
      "id": "99d421e1-1cb2-4d99-be95-87bf0c1a5131"
    },
    {
      "cell_type": "code",
      "source": "rs_svc.fit(X,y)",
      "metadata": {
        "trusted": true
      },
      "execution_count": 68,
      "outputs": [
        {
          "name": "stderr",
          "text": "/lib/python3.11/site-packages/sklearn/model_selection/_search.py:305: UserWarning: The total space of parameters 4 is smaller than n_iter=20. Running 4 iterations. For exhaustive searches, use GridSearchCV.\n  warnings.warn(\n",
          "output_type": "stream"
        },
        {
          "name": "stdout",
          "text": "Fitting 5 folds for each of 4 candidates, totalling 20 fits\n",
          "output_type": "stream"
        },
        {
          "execution_count": 68,
          "output_type": "execute_result",
          "data": {
            "text/plain": "RandomizedSearchCV(cv=5, estimator=SVC(), n_iter=20,\n                   param_distributions={'C': [0.25, 0.5, 0.75, 1],\n                                        'kernel': ['linear']},\n                   verbose=True)",
            "text/html": "<style>#sk-container-id-2 {color: black;background-color: white;}#sk-container-id-2 pre{padding: 0;}#sk-container-id-2 div.sk-toggleable {background-color: white;}#sk-container-id-2 label.sk-toggleable__label {cursor: pointer;display: block;width: 100%;margin-bottom: 0;padding: 0.3em;box-sizing: border-box;text-align: center;}#sk-container-id-2 label.sk-toggleable__label-arrow:before {content: \"▸\";float: left;margin-right: 0.25em;color: #696969;}#sk-container-id-2 label.sk-toggleable__label-arrow:hover:before {color: black;}#sk-container-id-2 div.sk-estimator:hover label.sk-toggleable__label-arrow:before {color: black;}#sk-container-id-2 div.sk-toggleable__content {max-height: 0;max-width: 0;overflow: hidden;text-align: left;background-color: #f0f8ff;}#sk-container-id-2 div.sk-toggleable__content pre {margin: 0.2em;color: black;border-radius: 0.25em;background-color: #f0f8ff;}#sk-container-id-2 input.sk-toggleable__control:checked~div.sk-toggleable__content {max-height: 200px;max-width: 100%;overflow: auto;}#sk-container-id-2 input.sk-toggleable__control:checked~label.sk-toggleable__label-arrow:before {content: \"▾\";}#sk-container-id-2 div.sk-estimator input.sk-toggleable__control:checked~label.sk-toggleable__label {background-color: #d4ebff;}#sk-container-id-2 div.sk-label input.sk-toggleable__control:checked~label.sk-toggleable__label {background-color: #d4ebff;}#sk-container-id-2 input.sk-hidden--visually {border: 0;clip: rect(1px 1px 1px 1px);clip: rect(1px, 1px, 1px, 1px);height: 1px;margin: -1px;overflow: hidden;padding: 0;position: absolute;width: 1px;}#sk-container-id-2 div.sk-estimator {font-family: monospace;background-color: #f0f8ff;border: 1px dotted black;border-radius: 0.25em;box-sizing: border-box;margin-bottom: 0.5em;}#sk-container-id-2 div.sk-estimator:hover {background-color: #d4ebff;}#sk-container-id-2 div.sk-parallel-item::after {content: \"\";width: 100%;border-bottom: 1px solid gray;flex-grow: 1;}#sk-container-id-2 div.sk-label:hover label.sk-toggleable__label {background-color: #d4ebff;}#sk-container-id-2 div.sk-serial::before {content: \"\";position: absolute;border-left: 1px solid gray;box-sizing: border-box;top: 0;bottom: 0;left: 50%;z-index: 0;}#sk-container-id-2 div.sk-serial {display: flex;flex-direction: column;align-items: center;background-color: white;padding-right: 0.2em;padding-left: 0.2em;position: relative;}#sk-container-id-2 div.sk-item {position: relative;z-index: 1;}#sk-container-id-2 div.sk-parallel {display: flex;align-items: stretch;justify-content: center;background-color: white;position: relative;}#sk-container-id-2 div.sk-item::before, #sk-container-id-2 div.sk-parallel-item::before {content: \"\";position: absolute;border-left: 1px solid gray;box-sizing: border-box;top: 0;bottom: 0;left: 50%;z-index: -1;}#sk-container-id-2 div.sk-parallel-item {display: flex;flex-direction: column;z-index: 1;position: relative;background-color: white;}#sk-container-id-2 div.sk-parallel-item:first-child::after {align-self: flex-end;width: 50%;}#sk-container-id-2 div.sk-parallel-item:last-child::after {align-self: flex-start;width: 50%;}#sk-container-id-2 div.sk-parallel-item:only-child::after {width: 0;}#sk-container-id-2 div.sk-dashed-wrapped {border: 1px dashed gray;margin: 0 0.4em 0.5em 0.4em;box-sizing: border-box;padding-bottom: 0.4em;background-color: white;}#sk-container-id-2 div.sk-label label {font-family: monospace;font-weight: bold;display: inline-block;line-height: 1.2em;}#sk-container-id-2 div.sk-label-container {text-align: center;}#sk-container-id-2 div.sk-container {/* jupyter's `normalize.less` sets `[hidden] { display: none; }` but bootstrap.min.css set `[hidden] { display: none !important; }` so we also need the `!important` here to be able to override the default hidden behavior on the sphinx rendered scikit-learn.org. See: https://github.com/scikit-learn/scikit-learn/issues/21755 */display: inline-block !important;position: relative;}#sk-container-id-2 div.sk-text-repr-fallback {display: none;}</style><div id=\"sk-container-id-2\" class=\"sk-top-container\"><div class=\"sk-text-repr-fallback\"><pre>RandomizedSearchCV(cv=5, estimator=SVC(), n_iter=20,\n                   param_distributions={&#x27;C&#x27;: [0.25, 0.5, 0.75, 1],\n                                        &#x27;kernel&#x27;: [&#x27;linear&#x27;]},\n                   verbose=True)</pre><b>In a Jupyter environment, please rerun this cell to show the HTML representation or trust the notebook. <br />On GitHub, the HTML representation is unable to render, please try loading this page with nbviewer.org.</b></div><div class=\"sk-container\" hidden><div class=\"sk-item sk-dashed-wrapped\"><div class=\"sk-label-container\"><div class=\"sk-label sk-toggleable\"><input class=\"sk-toggleable__control sk-hidden--visually\" id=\"sk-estimator-id-4\" type=\"checkbox\" ><label for=\"sk-estimator-id-4\" class=\"sk-toggleable__label sk-toggleable__label-arrow\">RandomizedSearchCV</label><div class=\"sk-toggleable__content\"><pre>RandomizedSearchCV(cv=5, estimator=SVC(), n_iter=20,\n                   param_distributions={&#x27;C&#x27;: [0.25, 0.5, 0.75, 1],\n                                        &#x27;kernel&#x27;: [&#x27;linear&#x27;]},\n                   verbose=True)</pre></div></div></div><div class=\"sk-parallel\"><div class=\"sk-parallel-item\"><div class=\"sk-item\"><div class=\"sk-label-container\"><div class=\"sk-label sk-toggleable\"><input class=\"sk-toggleable__control sk-hidden--visually\" id=\"sk-estimator-id-5\" type=\"checkbox\" ><label for=\"sk-estimator-id-5\" class=\"sk-toggleable__label sk-toggleable__label-arrow\">estimator: SVC</label><div class=\"sk-toggleable__content\"><pre>SVC()</pre></div></div></div><div class=\"sk-serial\"><div class=\"sk-item\"><div class=\"sk-estimator sk-toggleable\"><input class=\"sk-toggleable__control sk-hidden--visually\" id=\"sk-estimator-id-6\" type=\"checkbox\" ><label for=\"sk-estimator-id-6\" class=\"sk-toggleable__label sk-toggleable__label-arrow\">SVC</label><div class=\"sk-toggleable__content\"><pre>SVC()</pre></div></div></div></div></div></div></div></div></div></div>"
          },
          "metadata": {}
        }
      ],
      "id": "363ccf30-42a2-443b-a32a-6b6b0eabe90f"
    },
    {
      "cell_type": "code",
      "source": "rs_svc.best_score_",
      "metadata": {
        "trusted": true
      },
      "execution_count": 69,
      "outputs": [
        {
          "execution_count": 69,
          "output_type": "execute_result",
          "data": {
            "text/plain": "0.8066011466011467"
          },
          "metadata": {}
        }
      ],
      "id": "71a9fdb4-1d62-417b-bdf9-2a08c7f22d38"
    },
    {
      "cell_type": "code",
      "source": "rs_svc.best_params_",
      "metadata": {
        "trusted": true
      },
      "execution_count": 70,
      "outputs": [
        {
          "execution_count": 70,
          "output_type": "execute_result",
          "data": {
            "text/plain": "{'kernel': 'linear', 'C': 0.25}"
          },
          "metadata": {}
        }
      ],
      "id": "eb4745cc-9407-4f2e-81a7-5bee10be44a6"
    },
    {
      "cell_type": "code",
      "source": "RandomForestClassifier()",
      "metadata": {
        "trusted": true
      },
      "execution_count": null,
      "outputs": [],
      "id": "98858e1c-b605-449e-9f7f-dc0487cdff0a"
    },
    {
      "cell_type": "code",
      "source": "rf_grid={'n_estimators':np.arange(10,1000,10),\n  'max_features':['auto','sqrt'],\n 'max_depth':[None,3,5,10,20,30],\n 'min_samples_split':[2,5,20,50,100],\n 'min_samples_leaf':[1,2,5,10]\n }",
      "metadata": {
        "trusted": true
      },
      "execution_count": null,
      "outputs": [],
      "id": "43cf2f0e-a294-4576-b7f8-a21866f74306"
    },
    {
      "cell_type": "code",
      "source": "rs_rf=RandomizedSearchCV(RandomForestClassifier(),\n                  param_distributions=rf_grid,\n                   cv=5,\n                   n_iter=20,\n                  verbose=True)",
      "metadata": {
        "trusted": true
      },
      "execution_count": null,
      "outputs": [],
      "id": "0c6861c4-6a3d-4d57-86a1-8c944561a908"
    },
    {
      "cell_type": "code",
      "source": "rs_rf.fit(X,y)",
      "metadata": {
        "trusted": true
      },
      "execution_count": null,
      "outputs": [],
      "id": "a494e6e5-7eba-4db4-8d2f-dae59169b221"
    },
    {
      "cell_type": "code",
      "source": "rs_rf.best_score_",
      "metadata": {
        "trusted": true
      },
      "execution_count": null,
      "outputs": [],
      "id": "f55ff578-f91f-4237-8de1-71894cf76643"
    },
    {
      "cell_type": "code",
      "source": "rs_rf.best_params_",
      "metadata": {
        "trusted": true
      },
      "execution_count": null,
      "outputs": [],
      "id": "224b847b-d248-48f2-864f-6899e773b770"
    },
    {
      "cell_type": "code",
      "source": "X = data.drop('Loan_Status',axis=1)\ny = data['Loan_Status']",
      "metadata": {
        "trusted": true
      },
      "execution_count": null,
      "outputs": [],
      "id": "e24bafcb-86ed-40e0-8c7b-e41a9909f13a"
    },
    {
      "cell_type": "code",
      "source": "rf = RandomForestClassifier(n_estimators=270,\n min_samples_split=5,\n min_samples_leaf=5,\n max_features='sqrt',\n max_depth=5)",
      "metadata": {
        "trusted": true
      },
      "execution_count": null,
      "outputs": [],
      "id": "2321947b-9628-49d1-bf62-f30644c2c162"
    },
    {
      "cell_type": "code",
      "source": "rf.fit(X,y)",
      "metadata": {
        "trusted": true
      },
      "execution_count": null,
      "outputs": [],
      "id": "6f096d2a-46a4-4553-af6b-517d4781634d"
    },
    {
      "cell_type": "code",
      "source": "import joblib",
      "metadata": {
        "trusted": true
      },
      "execution_count": null,
      "outputs": [],
      "id": "c03bac8e-bfdc-4cab-b1bc-674c805e8ec9"
    },
    {
      "cell_type": "code",
      "source": "joblib.dump(rf,'loan_status_predict')",
      "metadata": {
        "trusted": true
      },
      "execution_count": null,
      "outputs": [],
      "id": "fcc85163-343a-4cc9-9cf8-21cf0994fc7e"
    },
    {
      "cell_type": "code",
      "source": "model = joblib.load('loan_status_predict')",
      "metadata": {},
      "execution_count": null,
      "outputs": [],
      "id": "08926dde-aa3a-4ad0-b3d2-72ac593ff6e2"
    },
    {
      "cell_type": "code",
      "source": "import pandas as pd\ndf = pd.DataFrame({\n    'Gender':1,\n    'Married':1,\n    'Dependents':2,\n    'Education':0,\n    'Self_Employed':0,\n    'ApplicantIncome':2889,\n    'CoapplicantIncome':0.0,\n    'LoanAmount':45,\n    'Loan_Amount_Term':180,\n    'Credit_History':0,\n    'Property_Area':1\n},index=[0])",
      "metadata": {
        "trusted": true
      },
      "execution_count": null,
      "outputs": [],
      "id": "2cb9d807-d5fd-42c6-a4b4-4b253957a566"
    },
    {
      "cell_type": "code",
      "source": "df",
      "metadata": {
        "trusted": true
      },
      "execution_count": null,
      "outputs": [],
      "id": "e0aa224f-d868-4f89-9e32-f3f442fdbb07"
    },
    {
      "cell_type": "code",
      "source": "result = model.predict(df)",
      "metadata": {
        "trusted": true
      },
      "execution_count": null,
      "outputs": [],
      "id": "bde80e87-ed18-45d3-9644-1e435660d363"
    },
    {
      "cell_type": "code",
      "source": "if result==1:\n    print(\"Loan Approved\")\nelse:\n    print(\"Loan Not Approved\")",
      "metadata": {
        "trusted": true
      },
      "execution_count": null,
      "outputs": [],
      "id": "ab14d285-1256-4f9c-90f6-869313b4cde2"
    },
    {
      "cell_type": "code",
      "source": "",
      "metadata": {},
      "execution_count": null,
      "outputs": [],
      "id": "329e7dbc-d8fa-402b-9521-8c2f0b0422e7"
    },
    {
      "cell_type": "code",
      "source": "",
      "metadata": {},
      "execution_count": null,
      "outputs": [],
      "id": "ffec9791-6efb-443e-bd10-ea63e7baca13"
    },
    {
      "cell_type": "code",
      "source": "",
      "metadata": {},
      "execution_count": null,
      "outputs": [],
      "id": "3806e7a9-a699-4a27-9df7-3a65a0c325e4"
    },
    {
      "cell_type": "code",
      "source": "",
      "metadata": {},
      "execution_count": null,
      "outputs": [],
      "id": "36491e02-d041-4e78-8525-5599eb66a18e"
    }
  ]
}